{
 "cells": [
  {
   "cell_type": "code",
   "execution_count": 8,
   "metadata": {},
   "outputs": [],
   "source": [
    "from urllib.parse import urlencode\n",
    "from urllib.request import urlopen\n",
    "import pickle\n",
    "import json\n",
    "from collections import OrderedDict\n",
    "import numpy as np\n",
    "import os\n",
    "\n",
    "\n",
    "\n",
    "\n",
    "class SubmissionBase:\n",
    "\n",
    "    submit_url = 'https://www-origin.coursera.org/api/' \\\n",
    "                 'onDemandProgrammingImmediateFormSubmissions.v1'\n",
    "    save_file = 'token.pkl'\n",
    "\n",
    "    def __init__(self, assignment_slug, part_names):\n",
    "        self.assignment_slug = assignment_slug\n",
    "        self.part_names = part_names\n",
    "        self.login = None\n",
    "        self.token = None\n",
    "        self.functions = OrderedDict()\n",
    "        self.args = dict()\n",
    "\n",
    "    def grade(self):\n",
    "        print('\\nSubmitting Solutions | Programming Exercise %s\\n' % self.assignment_slug)\n",
    "        self.login_prompt()\n",
    "\n",
    "        # Evaluate the different parts of exercise\n",
    "        parts = OrderedDict()\n",
    "        for part_id, result in self:\n",
    "            parts[str(part_id)] = {'output': sprintf('%0.5f ', result)}\n",
    "        result, response = self.request(parts)\n",
    "        response = json.loads(response)\n",
    "\n",
    "        # if an error was returned, print it and stop\n",
    "        if 'errorMessage' in response:\n",
    "            print(response['errorMessage'])\n",
    "            return\n",
    "\n",
    "        # Print the grading table\n",
    "        print('%43s | %9s | %-s' % ('Part Name', 'Score', 'Feedback'))\n",
    "        print('%43s | %9s | %-s' % ('---------', '-----', '--------'))\n",
    "        for part in parts:\n",
    "            part_feedback = response['partFeedbacks'][part]\n",
    "            part_evaluation = response['partEvaluations'][part]\n",
    "            score = '%d / %3d' % (part_evaluation['score'], part_evaluation['maxScore'])\n",
    "            print('%43s | %9s | %-s' % (self.part_names[int(part) - 1], score, part_feedback))\n",
    "        evaluation = response['evaluation']\n",
    "        total_score = '%d / %d' % (evaluation['score'], evaluation['maxScore'])\n",
    "        print('                                  --------------------------------')\n",
    "        print('%43s | %9s | %-s\\n' % (' ', total_score, ' '))\n",
    "\n",
    "    def login_prompt(self):\n",
    "        if os.path.isfile(self.save_file):\n",
    "            with open(self.save_file, 'rb') as f:\n",
    "                login, token = pickle.load(f)\n",
    "            reenter = input('Use token from last successful submission (%s)? (Y/n): ' % login)\n",
    "\n",
    "            if reenter == '' or reenter[0] == 'Y' or reenter[0] == 'y':\n",
    "                self.login, self.token = login, token\n",
    "                return\n",
    "            else:\n",
    "                os.remove(self.save_file)\n",
    "\n",
    "        self.login = input('Login (email address): ')\n",
    "        self.token = input('Token: ')\n",
    "\n",
    "        # Save the entered credentials\n",
    "        if not os.path.isfile(self.save_file):\n",
    "            with open(self.save_file, 'wb') as f:\n",
    "                pickle.dump((self.login, self.token), f)\n",
    "\n",
    "    def request(self, parts):\n",
    "        params = {\n",
    "            'assignmentSlug': self.assignment_slug,\n",
    "            'secret': self.token,\n",
    "            'parts': parts,\n",
    "            'submitterEmail': self.login}\n",
    "\n",
    "        params = urlencode({'jsonBody': json.dumps(params)}).encode(\"utf-8\")\n",
    "        f = urlopen(self.submit_url, params)\n",
    "        try:\n",
    "            return 0, f.read()\n",
    "        finally:\n",
    "            f.close()\n",
    "\n",
    "    def __iter__(self):\n",
    "        for part_id in self.functions:\n",
    "            yield part_id\n",
    "\n",
    "    def __setitem__(self, key, value):\n",
    "        self.functions[key] = value\n",
    "\n",
    "\n",
    "def sprintf(fmt, arg):\n",
    "    \"\"\" Emulates (part of) Octave sprintf function. \"\"\"\n",
    "    if isinstance(arg, tuple):\n",
    "        # for multiple return values, only use the first one\n",
    "        arg = arg[0]\n",
    "\n",
    "    if isinstance(arg, (np.ndarray, list)):\n",
    "        # concatenates all elements, column by column\n",
    "        return ' '.join(fmt % e for e in np.asarray(arg).ravel('F'))\n",
    "    else:\n",
    "        return fmt % arg\n",
    "    \n",
    "import numpy as np\n",
    "import sys\n",
    "sys.path.append('..')\n",
    "\n",
    "\n",
    "\n",
    "class Grader(SubmissionBase):\n",
    "    X1 = np.column_stack((np.ones(20), np.exp(1) + np.exp(2) * np.linspace(0.1, 2, 20)))\n",
    "    Y1 = X1[:, 1] + np.sin(X1[:, 0]) + np.cos(X1[:, 1])\n",
    "    X2 = np.column_stack((X1, X1[:, 1]**0.5, X1[:, 1]**0.25))\n",
    "    Y2 = np.power(Y1, 0.5) + Y1\n",
    "\n",
    "    def __init__(self):\n",
    "        part_names = ['Warm up exercise',\n",
    "                      'Computing Cost (for one variable)',\n",
    "                      'Gradient Descent (for one variable)',\n",
    "                      'Feature Normalization',\n",
    "                      'Computing Cost (for multiple variables)',\n",
    "                      'Gradient Descent (for multiple variables)',\n",
    "                      'Normal Equations']\n",
    "        super().__init__('linear-regression', part_names)\n",
    "\n",
    "    def __iter__(self):\n",
    "        for part_id in range(1, 8):\n",
    "            try:\n",
    "                func = self.functions[part_id]\n",
    "\n",
    "                # Each part has different expected arguments/different function\n",
    "                if part_id == 1:\n",
    "                    res = func()\n",
    "                elif part_id == 2:\n",
    "                    res = func(self.X1, self.Y1, np.array([0.5, -0.5]))\n",
    "                elif part_id == 3:\n",
    "                    res = func(self.X1, self.Y1, np.array([0.5, -0.5]), 0.01, 10)\n",
    "                elif part_id == 4:\n",
    "                    res = func(self.X2[:, 1:4])\n",
    "                elif part_id == 5:\n",
    "                    res = func(self.X2, self.Y2, np.array([0.1, 0.2, 0.3, 0.4]))\n",
    "                elif part_id == 6:\n",
    "                    res = func(self.X2, self.Y2, np.array([-0.1, -0.2, -0.3, -0.4]), 0.01, 10)\n",
    "                elif part_id == 7:\n",
    "                    res = func(self.X2, self.Y2)\n",
    "                else:\n",
    "                    raise KeyError\n",
    "                yield part_id, res\n",
    "            except KeyError:\n",
    "                yield part_id, 0"
   ]
  },
  {
   "cell_type": "code",
   "execution_count": 9,
   "metadata": {},
   "outputs": [],
   "source": [
    "# used for manipulating directory paths\n",
    "import os\n",
    "\n",
    "# Scientific and vector computation for python\n",
    "import numpy as np\n",
    "\n",
    "# Plotting library\n",
    "from matplotlib import pyplot\n",
    "from mpl_toolkits.mplot3d import Axes3D  # needed to plot 3-D surfaces\n",
    "\n",
    "# library written for this exercise providing additional functions for assignment submission, and others\n",
    "\n",
    "\n",
    "# define the submission/grader object for this exercise\n",
    "grader = Grader()\n",
    "\n",
    "# tells matplotlib to embed plots within the notebook\n",
    "%matplotlib inline"
   ]
  },
  {
   "cell_type": "code",
   "execution_count": 10,
   "metadata": {},
   "outputs": [],
   "source": [
    "A = np.eye(5)"
   ]
  },
  {
   "cell_type": "code",
   "execution_count": 11,
   "metadata": {},
   "outputs": [],
   "source": [
    "\n",
    "def warmUpExercise():\n",
    "    \"\"\"\n",
    "    Example function in Python which computes the identity matrix.\n",
    "    \n",
    "    Returns\n",
    "    -------\n",
    "    A : array_like\n",
    "        The 5x5 identity matrix.\n",
    "    \n",
    "    Instructions\n",
    "    ------------\n",
    "    Return the 5x5 identity matrix.\n",
    "    \"\"\"    \n",
    "    # ======== YOUR CODE HERE ======\n",
    "    A = np.eye(5)  # modify this line\n",
    "    \n",
    "    # ==============================\n",
    "    return A"
   ]
  },
  {
   "cell_type": "code",
   "execution_count": 12,
   "metadata": {},
   "outputs": [
    {
     "data": {
      "text/plain": [
       "array([[1., 0., 0., 0., 0.],\n",
       "       [0., 1., 0., 0., 0.],\n",
       "       [0., 0., 1., 0., 0.],\n",
       "       [0., 0., 0., 1., 0.],\n",
       "       [0., 0., 0., 0., 1.]])"
      ]
     },
     "execution_count": 12,
     "metadata": {},
     "output_type": "execute_result"
    }
   ],
   "source": [
    "warmUpExercise()"
   ]
  },
  {
   "cell_type": "code",
   "execution_count": 43,
   "metadata": {},
   "outputs": [
    {
     "data": {
      "text/plain": [
       "array([17.592  ,  9.1302 , 13.662  , 11.854  ,  6.8233 , 11.886  ,\n",
       "        4.3483 , 12.     ,  6.5987 ,  3.8166 ,  3.2522 , 15.505  ,\n",
       "        3.1551 ,  7.2258 ,  0.71618,  3.5129 ,  5.3048 ,  0.56077,\n",
       "        3.6518 ,  5.3893 ,  3.1386 , 21.767  ,  4.263  ,  5.1875 ,\n",
       "        3.0825 , 22.638  , 13.501  ,  7.0467 , 14.692  , 24.147  ,\n",
       "       -1.22   ,  5.9966 , 12.134  ,  1.8495 ,  6.5426 ,  4.5623 ,\n",
       "        4.1164 ,  3.3928 , 10.117  ,  5.4974 ,  0.55657,  3.9115 ,\n",
       "        5.3854 ,  2.4406 ,  6.7318 ,  1.0463 ,  5.1337 ,  1.844  ,\n",
       "        8.0043 ,  1.0179 ,  6.7504 ,  1.8396 ,  4.2885 ,  4.9981 ,\n",
       "        1.4233 , -1.4211 ,  2.4756 ,  4.6042 ,  3.9624 ,  5.4141 ,\n",
       "        5.1694 , -0.74279, 17.929  , 12.054  , 17.054  ,  4.8852 ,\n",
       "        5.7442 ,  7.7754 ,  1.0173 , 20.992  ,  6.6799 ,  4.0259 ,\n",
       "        1.2784 ,  3.3411 , -2.6807 ,  0.29678,  3.8845 ,  5.7014 ,\n",
       "        6.7526 ,  2.0576 ,  0.47953,  0.20421,  0.67861,  7.5435 ,\n",
       "        5.3436 ,  4.2415 ,  6.7981 ,  0.92695,  0.152  ,  2.8214 ,\n",
       "        1.8451 ,  4.2959 ,  7.2029 ,  1.9869 ,  0.14454,  9.0551 ,\n",
       "        0.61705])"
      ]
     },
     "execution_count": 43,
     "metadata": {},
     "output_type": "execute_result"
    }
   ],
   "source": [
    "#Part 2 Linear Regression with One Variable\n",
    "data = np.loadtxt(os.path.join('Data', 'ex1data1.txt'), delimiter=',')\n",
    "x, y = data[:, 0], data[:, 1]\n",
    "m = y.size  # number of training examples\n",
    "y"
   ]
  },
  {
   "cell_type": "code",
   "execution_count": 44,
   "metadata": {},
   "outputs": [],
   "source": [
    "def plotData(x,y):\n",
    "    fig = pyplot.figure()\n",
    "    pyplot.plot(x,y,'ro',ms=10,mec='k') #Plots X vs. Y\n",
    "    pyplot.ylabel('profit in $10,000')\n",
    "    pyplot.xlabel('Population of City')\n"
   ]
  },
  {
   "cell_type": "code",
   "execution_count": 45,
   "metadata": {},
   "outputs": [
    {
     "data": {
      "image/png": "[encoded data removed]",
      "text/plain": [
       "<Figure size 432x288 with 1 Axes>"
      ]
     },
     "metadata": {
      "needs_background": "light"
     },
     "output_type": "display_data"
    }
   ],
   "source": [
    "plotData(x,y)"
   ]
  },
  {
   "cell_type": "code",
   "execution_count": 46,
   "metadata": {},
   "outputs": [],
   "source": [
    "#Gradient Descent\n",
    "#We have to add another dimension to the data. We add theta(0) \n",
    "#To add another column to an array/data table:\n",
    "x = np.stack([np.ones(m), x], axis=1)\n"
   ]
  },
  {
   "cell_type": "code",
   "execution_count": 96,
   "metadata": {},
   "outputs": [],
   "source": [
    "def computeCost(x, y, theta):\n",
    "    \"\"\"\n",
    "    Compute cost for linear regression. Computes the cost of using theta as the\n",
    "    parameter for linear regression to fit the data points in X and y.\n",
    "    \n",
    "    Parameters\n",
    "    ----------\n",
    "    X : array_like\n",
    "        The input dataset of shape (m x n+1), where m is the number of examples,\n",
    "        and n is the number of features. We assume a vector of one's already \n",
    "        appended to the features so we have n+1 columns.\n",
    "    \n",
    "    y : array_like\n",
    "        The values of the function at each data point. This is a vector of\n",
    "        shape (m, ).\n",
    "    \n",
    "    theta : array_like\n",
    "        The parameters for the regression function. This is a vector of \n",
    "        shape (n+1, ).\n",
    "    \n",
    "    Returns\n",
    "    -------\n",
    "    J : float\n",
    "        The value of the regression cost function.\n",
    "    \n",
    "    Instructions\n",
    "    ------------\n",
    "    Compute the cost of a particular choice of theta. \n",
    "    You should set J to the cost.\n",
    "    \"\"\"\n",
    "    \n",
    "    # initialize some useful values\n",
    "    m = y.size  # number of training examples\n",
    "    \n",
    "    # You need to return the following variables correctly\n",
    "    J = 0\n",
    "    \n",
    "    # ====================== YOUR CODE HERE =====================\n",
    "    #dot != dot product\n",
    "    #We dot all the cells in x and theta \n",
    "    h = np.dot(x,theta)\n",
    "    J = (1/(2*m))*np.sum(np.square(h-y))\n",
    "    \n",
    "    # ===========================================================\n",
    "  \n",
    "    return J\n",
    "#Why I was wrong the first time: When you do\n",
    "# J = (h-y[i]) * (h-y[i])\n",
    "# J += J\n",
    "#The dot product for each row can actually end up being 0*0 + 0*0\n",
    "# SO all you do is add 0 to itself when h is 0.\n",
    "#However, my code is hard coded for only theta.size == 2\n",
    "#Turn it into the general form"
   ]
  },
  {
   "cell_type": "code",
   "execution_count": 97,
   "metadata": {},
   "outputs": [
    {
     "name": "stdout",
     "output_type": "stream",
     "text": [
      "With theta = [0, 0] \n",
      "Cost computed = 32.07\n",
      "Expected cost value (approximately) 32.07\n",
      "\n"
     ]
    }
   ],
   "source": [
    "J = computeCost(x, y, theta=np.array([0.0, 0.0]))\n",
    "print('With theta = [0, 0] \\nCost computed = %.2f' % J)\n",
    "print('Expected cost value (approximately) 32.07\\n')"
   ]
  },
  {
   "cell_type": "code",
   "execution_count": 98,
   "metadata": {
    "scrolled": true
   },
   "outputs": [
    {
     "name": "stdout",
     "output_type": "stream",
     "text": [
      "\n",
      "Submitting Solutions | Programming Exercise linear-regression\n",
      "\n",
      "Use token from last successful submission (canngo215@gmail.com)? (Y/n): Y\n",
      "                                  Part Name |     Score | Feedback\n",
      "                                  --------- |     ----- | --------\n",
      "                           Warm up exercise |  10 /  10 | Nice work!\n",
      "          Computing Cost (for one variable) |  40 /  40 | Nice work!\n",
      "        Gradient Descent (for one variable) |   0 /  50 | \n",
      "                      Feature Normalization |   0 /   0 | \n",
      "    Computing Cost (for multiple variables) |   0 /   0 | \n",
      "  Gradient Descent (for multiple variables) |   0 /   0 | \n",
      "                           Normal Equations |   0 /   0 | \n",
      "                                  --------------------------------\n",
      "                                            |  50 / 100 |  \n",
      "\n"
     ]
    }
   ],
   "source": [
    "grader[2] = computeCost\n",
    "grader.grade()"
   ]
  },
  {
   "cell_type": "code",
   "execution_count": null,
   "metadata": {},
   "outputs": [],
   "source": [
    "def gradientDescent(X, y, theta, alpha, num_iters):\n",
    "    \"\"\"\n",
    "    Performs gradient descent to learn `theta`. Updates theta by taking `num_iters`\n",
    "    gradient steps with learning rate `alpha`.\n",
    "    \n",
    "    Parameters\n",
    "    ----------\n",
    "    X : array_like\n",
    "        The input dataset of shape (m x n+1).\n",
    "    \n",
    "    y : arra_like\n",
    "        Value at given features. A vector of shape (m, ).\n",
    "    \n",
    "    theta : array_like\n",
    "        Initial values for the linear regression parameters. \n",
    "        A vector of shape (n+1, ).\n",
    "    \n",
    "    alpha : float\n",
    "        The learning rate.\n",
    "    \n",
    "    num_iters : int\n",
    "        The number of iterations for gradient descent. \n",
    "    \n",
    "    Returns\n",
    "    -------\n",
    "    theta : array_like\n",
    "        The learned linear regression parameters. A vector of shape (n+1, ).\n",
    "    \n",
    "    J_history : list\n",
    "        A python list for the values of the cost function after each iteration.\n",
    "    \n",
    "    Instructions\n",
    "    ------------\n",
    "    Peform a single gradient step on the parameter vector theta.\n",
    "\n",
    "    While debugging, it can be useful to print out the values of \n",
    "    the cost function (computeCost) and gradient here.\n",
    "    \"\"\"\n",
    "    # Initialize some useful values\n",
    "    m = y.shape[0]  # number of training examples\n",
    "    \n",
    "    # make a copy of theta, to avoid changing the original array, since numpy arrays\n",
    "    # are passed by reference to functions\n",
    "    theta = theta.copy()\n",
    "    \n",
    "    J_history = [] # Use a python list to save cost in every iteration\n",
    "    \n",
    "    for i in range(num_iters):\n",
    "        # ==================== YOUR CODE HERE =================================\n",
    "        h = np.dot(X,theta)\n",
    "        theta =  theta - (alpha / m) * (h-y).dot(X)\n",
    "\n",
    "        # =====================================================================\n",
    "        \n",
    "        # save the cost J in every iteration\n",
    "        J_history.append(computeCost(X, y, theta))\n",
    "    \n",
    "    return theta, J_history"
   ]
  },
  {
   "cell_type": "code",
   "execution_count": null,
   "metadata": {},
   "outputs": [],
   "source": [
    "# initialize fitting parameters\n",
    "theta = np.zeros(2)\n",
    "\n",
    "# some gradient descent settings\n",
    "iterations = 1500\n",
    "alpha = 0.01\n",
    "\n",
    "theta, J_history = gradientDescent(x ,y, theta, alpha, iterations)\n",
    "print('Theta found by gradient descent: {:.4f}, {:.4f}'.format(*theta))\n",
    "print('Expected theta values (approximately): [-3.6303, 1.1664]')"
   ]
  },
  {
   "cell_type": "code",
   "execution_count": null,
   "metadata": {},
   "outputs": [],
   "source": [
    "# plot the linear fit\n",
    "plotData(X[:, 1], y)\n",
    "pyplot.plot(X[:, 1], np.dot(X, theta), '-')\n",
    "pyplot.legend(['Training data', 'Linear regression']);"
   ]
  },
  {
   "cell_type": "code",
   "execution_count": null,
   "metadata": {},
   "outputs": [],
   "source": [
    "# Predict values for population sizes of 35,000 and 70,000\n",
    "predict1 = np.dot([1, 3.5], theta)\n",
    "print('For population = 35,000, we predict a profit of {:.2f}\\n'.format(predict1*10000))\n",
    "\n",
    "predict2 = np.dot([1, 7], theta)\n",
    "print('For population = 70,000, we predict a profit of {:.2f}\\n'.format(predict2*10000))"
   ]
  },
  {
   "cell_type": "code",
   "execution_count": null,
   "metadata": {},
   "outputs": [],
   "source": [
    "grader[3] = gradientDescent\n",
    "grader.grade()"
   ]
  },
  {
   "cell_type": "code",
   "execution_count": 2,
   "metadata": {},
   "outputs": [
    {
     "name": "stdout",
     "output_type": "stream",
     "text": [
      "[10 20]\n"
     ]
    }
   ],
   "source": [
    "import numpy as np\n",
    "a = np.array([1,2,3,4])\n",
    "x = np.array([[1,2],\n",
    "             [1,2],\n",
    "             [1,2],\n",
    "             [1,2]\n",
    "             ])\n",
    "print(a.dot(x))"
   ]
  },
  {
   "cell_type": "code",
   "execution_count": null,
   "metadata": {},
   "outputs": [],
   "source": []
  }
 ],
 "metadata": {
  "kernelspec": {
   "display_name": "Python 3",
   "language": "python",
   "name": "python3"
  },
  "language_info": {
   "codemirror_mode": {
    "name": "ipython",
    "version": 3
   },
   "file_extension": ".py",
   "mimetype": "text/x-python",
   "name": "python",
   "nbconvert_exporter": "python",
   "pygments_lexer": "ipython3",
   "version": "3.6.10"
  }
 },
 "nbformat": 4,
 "nbformat_minor": 4
}
